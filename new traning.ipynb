{
 "cells": [
  {
   "cell_type": "code",
   "execution_count": 17,
   "id": "d18ddfdd",
   "metadata": {},
   "outputs": [
    {
     "name": "stdout",
     "output_type": "stream",
     "text": [
      "Before making changing:  15\n",
      "Making change\n",
      "After making change:  15\n",
      "value of x 20\n"
     ]
    }
   ],
   "source": [
    "def add():\n",
    "    x = 15\n",
    "    def change():\n",
    "        global x\n",
    "        x = 20\n",
    "    print(\"Before making changing: \", x)\n",
    "    print(\"Making change\")\n",
    "    change()\n",
    "    print(\"After making change: \", x)\n",
    "add()\n",
    "print(\"value of x\",x)"
   ]
  },
  {
   "cell_type": "code",
   "execution_count": 1,
   "id": "fa1c3840",
   "metadata": {},
   "outputs": [
    {
     "name": "stdout",
     "output_type": "stream",
     "text": [
      "INSIDE FUNCTION:  I love Geeksforgeeks\n"
     ]
    },
    {
     "ename": "NameError",
     "evalue": "name 's' is not defined",
     "output_type": "error",
     "traceback": [
      "\u001b[1;31m---------------------------------------------------------------------------\u001b[0m",
      "\u001b[1;31mNameError\u001b[0m                                 Traceback (most recent call last)",
      "\u001b[1;32m<ipython-input-1-ac9dcb35ff78>\u001b[0m in \u001b[0;36m<module>\u001b[1;34m\u001b[0m\n\u001b[0;32m      5\u001b[0m \u001b[1;31m# Driver code\u001b[0m\u001b[1;33m\u001b[0m\u001b[1;33m\u001b[0m\u001b[1;33m\u001b[0m\u001b[0m\n\u001b[0;32m      6\u001b[0m \u001b[0mf\u001b[0m\u001b[1;33m(\u001b[0m\u001b[1;33m)\u001b[0m\u001b[1;33m\u001b[0m\u001b[1;33m\u001b[0m\u001b[0m\n\u001b[1;32m----> 7\u001b[1;33m \u001b[0mprint\u001b[0m\u001b[1;33m(\u001b[0m\u001b[0ms\u001b[0m\u001b[1;33m)\u001b[0m\u001b[1;33m\u001b[0m\u001b[1;33m\u001b[0m\u001b[0m\n\u001b[0m",
      "\u001b[1;31mNameError\u001b[0m: name 's' is not defined"
     ]
    }
   ],
   "source": [
    "def f():\n",
    "# local vairable\n",
    "    s = \"I love Geeksforgeeks\"\n",
    "    print(\"INSIDE FUNCTION: \",s)\n",
    "f()\n",
    "print(s)"
   ]
  },
  {
   "cell_type": "code",
   "execution_count": 28,
   "id": "33eb3d77",
   "metadata": {},
   "outputs": [
    {
     "name": "stdout",
     "output_type": "stream",
     "text": [
      "inside function:  I love Geeksforgeeks\n",
      "outside funcion:  I love Geeksforgeeks\n"
     ]
    }
   ],
   "source": [
    "def f():\n",
    "    print(\"inside function: \",s)\n",
    "s = \"I love Geeksforgeeks\"\n",
    "f()\n",
    "print(\"outside funcion: \",s)"
   ]
  },
  {
   "cell_type": "code",
   "execution_count": 19,
   "id": "d83ec899",
   "metadata": {},
   "outputs": [
    {
     "name": "stdout",
     "output_type": "stream",
     "text": [
      "global :  1\n",
      "Inside f():  1\n",
      "global :  1\n",
      "inside g():  2\n",
      "global :  1\n",
      "inside h():  3\n",
      "global :  3\n"
     ]
    }
   ],
   "source": [
    "a = 1\n",
    "def f():\n",
    "    print('Inside f(): ',a)\n",
    "def g():\n",
    "    a = 2\n",
    "    print('inside g(): ',a)\n",
    "def h():\n",
    "    global a\n",
    "    a = 3\n",
    "    print('inside h(): ',a)\n",
    "print('global : ', a)\n",
    "f()\n",
    "print('global : ', a)\n",
    "g()\n",
    "print('global : ', a)\n",
    "h()\n",
    "print('global : ', a)"
   ]
  },
  {
   "cell_type": "code",
   "execution_count": 39,
   "id": "aac0b8bf",
   "metadata": {},
   "outputs": [
    {
     "name": "stdout",
     "output_type": "stream",
     "text": [
      "Now power is set to 2\n",
      "10 power of 2 = 100\n",
      "Now Power is set to 5\n",
      "10 Power of 5 = 100000\n",
      "Now Power is set to 10\n",
      "8 power of 10 = 10000000000\n"
     ]
    }
   ],
   "source": [
    "def power(n):\n",
    "    return lambda a : a ** n\n",
    "base = power(2)\n",
    "print(\"Now power is set to 2\")\n",
    "print(\"10 power of 2 =\", base(10))\n",
    "base = power(5)\n",
    "print(\"Now Power is set to 5\")\n",
    "print(\"10 Power of 5 =\", base(10))\n",
    "base = power(10)\n",
    "print(\"Now Power is set to 10\")\n",
    "print(\"8 power of 10 =\", base(10))"
   ]
  },
  {
   "cell_type": "code",
   "execution_count": 29,
   "id": "8c898e39",
   "metadata": {},
   "outputs": [
    {
     "name": "stdout",
     "output_type": "stream",
     "text": [
      "This is drivedmammals\n",
      "This is animal\n",
      "This is mammls\n",
      "bat is winged\n",
      "bat is mammals\n",
      "bat is animal\n",
      "spparow is winged\n",
      "spparow is mammals\n",
      "spparow is animal\n",
      "Tiger is not Winged\n",
      "Tigar is animal\n",
      "Tigar is mammals\n"
     ]
    }
   ],
   "source": [
    "class animal:\n",
    "    def __init__(self):\n",
    "        print('This is animal')\n",
    "    def bat2(self):\n",
    "        print('bat is animal')\n",
    "    def spparow2(self):\n",
    "        print('spparow is animal')\n",
    "    def Tiger2(self):\n",
    "        print('Tigar is animal')\n",
    "        \n",
    "class mammals:\n",
    "    def __init__(self):\n",
    "        print('This is mammls')\n",
    "    def bat1(self):\n",
    "        print('bat is mammals')\n",
    "    def spparow1(self):\n",
    "        print('spparow is mammals')\n",
    "    def Tiger1(self):\n",
    "        print('Tigar is mammals')\n",
    "        \n",
    "class derivedanimal(animal , mammals):\n",
    "    def __init__(self):\n",
    "        print('This is drivedmammals')\n",
    "        #super().__init__()\n",
    "        animal()\n",
    "        mammals()\n",
    "    def bat(self):\n",
    "        print('bat is winged')\n",
    "    def spparow(self):\n",
    "        print('spparow is winged')\n",
    "    def Tiger(self):\n",
    "        print('Tiger is not Winged')\n",
    "        \n",
    "obj = derivedanimal()\n",
    "obj.bat()\n",
    "obj.bat1()\n",
    "obj.bat2()\n",
    "obj.spparow()\n",
    "obj.spparow1()\n",
    "obj.spparow2()\n",
    "obj.Tiger()\n",
    "obj.Tiger2()\n",
    "obj.Tiger1()\n",
    "\n",
    "\n",
    "\n"
   ]
  },
  {
   "cell_type": "code",
   "execution_count": 37,
   "id": "3e511201",
   "metadata": {},
   "outputs": [
    {
     "name": "stdout",
     "output_type": "stream",
     "text": [
      "Enter Number1 1\n",
      "Enter Number2 1\n",
      "Enter Number3 1\n",
      "Enter Number4 1\n",
      "Enter Number5 1\n",
      "Enter Number6 1\n",
      "6\n"
     ]
    }
   ],
   "source": [
    "'''\n",
    "multilevel heritance\n",
    "'''\n",
    "class c1():\n",
    "    def __init__(self):\n",
    "        \n",
    "        self.num1 = int(input(\"Enter Number1 \"))\n",
    "        self.num2 = int(input(\"Enter Number2 \"))\n",
    "\n",
    "class c2(c1):\n",
    "    def __init__(self):\n",
    "        super().__init__()\n",
    "        \n",
    "        self.num3 =  int(input(\"Enter Number3 \"))\n",
    "        self.num4 =  int(input(\"Enter Number4 \"))\n",
    "        \n",
    "class c3(c2):\n",
    "    def __init__(self):\n",
    "        super().__init__()\n",
    "        \n",
    "        self.num5 =  int(input(\"Enter Number5 \"))\n",
    "        self.num6 =  int(input(\"Enter Number6 \" ))\n",
    "    \n",
    "    def myadd(self):\n",
    "        \n",
    "        total =  self.num5 + self.num6 + self.num4 + self.num3 + self.num2 + self.num1\n",
    "        print(total)\n",
    "    \n",
    "o1 = c3()\n",
    "o1.myadd()\n"
   ]
  },
  {
   "cell_type": "code",
   "execution_count": 36,
   "id": "1d9ae03b",
   "metadata": {},
   "outputs": [
    {
     "name": "stdout",
     "output_type": "stream",
     "text": [
      "Enter number 1 : 5\n",
      "Enter number 2 : 5\n",
      "Enter number 3 : 5\n",
      "Enter number 4 : 5\n",
      "Enter number 5 : 5\n",
      "Enter number 6 : 5\n",
      "30\n"
     ]
    }
   ],
   "source": [
    "'''\n",
    "mutliple Inheritance\n",
    "'''\n",
    "class c1():\n",
    "    \n",
    "    def __init__(self,num1,num2):\n",
    "        self.num1 = num1\n",
    "        self.num2 = num2\n",
    "        \n",
    "class c2():\n",
    "    \n",
    "    def __init__(self,num3,num4):\n",
    "        self.num3 = num3\n",
    "        self.num4 = num4\n",
    "\n",
    "class c3(c1,c2):\n",
    "    \n",
    "    def __init__(self,num1,num2,num3,num4,num5,num6):\n",
    "        self.num5 = num5\n",
    "        self.num6 = num6\n",
    "        c1.__init__(self,num1,num2)\n",
    "        c2.__init__(self,num3,num4)\n",
    "        print(self.num1 + self.num2 + self.num3 + self.num4 + self.num5 + self.num6)\n",
    "\n",
    "mynum1 = eval(input('Enter number 1 : '))\n",
    "mynum2 = eval(input('Enter number 2 : '))\n",
    "mynum3 = eval(input('Enter number 3 : '))\n",
    "mynum4 = eval(input('Enter number 4 : '))\n",
    "mynum5 = eval(input('Enter number 5 : '))\n",
    "mynum6 = eval(input('Enter number 6 : '))\n",
    "myc3 = c3(mynum1,mynum2,mynum3,mynum4,mynum5,mynum6)"
   ]
  },
  {
   "cell_type": "code",
   "execution_count": 64,
   "id": "77d6a14a",
   "metadata": {},
   "outputs": [
    {
     "name": "stdout",
     "output_type": "stream",
     "text": [
      "200\n",
      "200\n",
      "200\n"
     ]
    }
   ],
   "source": [
    "# data abstraction and encapsulation (private variable)\n",
    "class c1:\n",
    "    __price = 200\n",
    "    def printprice(self):\n",
    "        print(self.__price)\n",
    "    def setprice(self,price):\n",
    "        self.__price = price\n",
    "\n",
    "objc = c1()\n",
    "objc.printprice()\n",
    "objc.price = 200\n",
    "objc.printprice()\n",
    "objc.setprice(200)\n",
    "objc.printprice()\n"
   ]
  },
  {
   "cell_type": "code",
   "execution_count": 62,
   "id": "cd072271",
   "metadata": {},
   "outputs": [
    {
     "name": "stdout",
     "output_type": "stream",
     "text": [
      "non updating\n"
     ]
    },
    {
     "ename": "AttributeError",
     "evalue": "'c2' object has no attribute '__update'",
     "output_type": "error",
     "traceback": [
      "\u001b[1;31m---------------------------------------------------------------------------\u001b[0m",
      "\u001b[1;31mAttributeError\u001b[0m                            Traceback (most recent call last)",
      "\u001b[1;32m<ipython-input-62-f801fade31d7>\u001b[0m in \u001b[0;36m<module>\u001b[1;34m\u001b[0m\n\u001b[0;32m     10\u001b[0m \u001b[0mobjc2\u001b[0m \u001b[1;33m=\u001b[0m \u001b[0mc2\u001b[0m\u001b[1;33m(\u001b[0m\u001b[1;33m)\u001b[0m\u001b[1;33m\u001b[0m\u001b[1;33m\u001b[0m\u001b[0m\n\u001b[0;32m     11\u001b[0m \u001b[0mobjc2\u001b[0m\u001b[1;33m.\u001b[0m\u001b[0mprintnone\u001b[0m\u001b[1;33m(\u001b[0m\u001b[1;33m)\u001b[0m\u001b[1;33m\u001b[0m\u001b[1;33m\u001b[0m\u001b[0m\n\u001b[1;32m---> 12\u001b[1;33m \u001b[0mobjc2\u001b[0m\u001b[1;33m.\u001b[0m\u001b[0m__update\u001b[0m\u001b[1;33m(\u001b[0m\u001b[1;33m)\u001b[0m\u001b[1;33m\u001b[0m\u001b[1;33m\u001b[0m\u001b[0m\n\u001b[0m\u001b[0;32m     13\u001b[0m \u001b[1;33m\u001b[0m\u001b[0m\n",
      "\u001b[1;31mAttributeError\u001b[0m: 'c2' object has no attribute '__update'"
     ]
    }
   ],
   "source": [
    "# data abstraction and encapsulation (private variable)\n",
    "class c2:\n",
    "    def __update(self):\n",
    "        print('updating')\n",
    "    def printnone(self):\n",
    "        print('non updating')\n",
    "    def setupdate(self):\n",
    "        self.__update()\n",
    "\n",
    "objc2 = c2()\n",
    "objc2.printnone()\n",
    "objc2.__update()\n",
    "        "
   ]
  },
  {
   "cell_type": "code",
   "execution_count": 52,
   "id": "fdf9e19c",
   "metadata": {},
   "outputs": [
    {
     "name": "stdout",
     "output_type": "stream",
     "text": [
      "100\n",
      "100\n",
      "100\n",
      "300\n",
      "400\n"
     ]
    }
   ],
   "source": [
    "# data abstraction and encapsulation (private variable)\n",
    "\n",
    "class c1:\n",
    "    __price = 100\n",
    "    def printprice(self):\n",
    "        print(self.__price)\n",
    "    def setprice(self,price):\n",
    "        self.__price = price\n",
    "\n",
    "myc1 = c1()\n",
    "myc1.printprice()\n",
    "myc1.__price = 200\n",
    "myc1.printprice()\n",
    "myc1.price = 250\n",
    "myc1.printprice()\n",
    "myc1.setprice(300)\n",
    "myc1.printprice()\n",
    "myc1.setprice(400)\n",
    "myc1.printprice()"
   ]
  },
  {
   "cell_type": "code",
   "execution_count": 67,
   "id": "aacc26ca",
   "metadata": {},
   "outputs": [
    {
     "name": "stdout",
     "output_type": "stream",
     "text": [
      "Collecting cx_Oracle\n",
      "  Downloading cx_Oracle-8.3.0-cp38-cp38-win32.whl (153 kB)\n",
      "Installing collected packages: cx-Oracle\n",
      "Successfully installed cx-Oracle-8.3.0\n"
     ]
    }
   ],
   "source": [
    "!pip3 install cx_Oracle"
   ]
  },
  {
   "cell_type": "code",
   "execution_count": 68,
   "id": "031011d6",
   "metadata": {},
   "outputs": [
    {
     "ename": "ModuleNotFoundError",
     "evalue": "No module named 'db_config'",
     "output_type": "error",
     "traceback": [
      "\u001b[1;31m---------------------------------------------------------------------------\u001b[0m",
      "\u001b[1;31mModuleNotFoundError\u001b[0m                       Traceback (most recent call last)",
      "\u001b[1;32m<ipython-input-68-f7f52feff30f>\u001b[0m in \u001b[0;36m<module>\u001b[1;34m\u001b[0m\n\u001b[0;32m      1\u001b[0m \u001b[1;32mimport\u001b[0m \u001b[0mcx_Oracle\u001b[0m\u001b[1;33m\u001b[0m\u001b[1;33m\u001b[0m\u001b[0m\n\u001b[1;32m----> 2\u001b[1;33m \u001b[1;32mimport\u001b[0m \u001b[0mdb_config\u001b[0m\u001b[1;33m\u001b[0m\u001b[1;33m\u001b[0m\u001b[0m\n\u001b[0m\u001b[0;32m      3\u001b[0m \u001b[1;33m\u001b[0m\u001b[0m\n\u001b[0;32m      4\u001b[0m \u001b[0mcon\u001b[0m \u001b[1;33m=\u001b[0m \u001b[0mcx_Oracle\u001b[0m\u001b[1;33m.\u001b[0m\u001b[0mconnect\u001b[0m\u001b[1;33m(\u001b[0m\u001b[0mdb_config\u001b[0m\u001b[1;33m.\u001b[0m\u001b[0muser\u001b[0m\u001b[1;33m,\u001b[0m \u001b[0mdb_config\u001b[0m\u001b[1;33m.\u001b[0m\u001b[0mpw\u001b[0m\u001b[1;33m,\u001b[0m \u001b[0mdb_config\u001b[0m\u001b[1;33m.\u001b[0m\u001b[0mdsn\u001b[0m\u001b[1;33m)\u001b[0m\u001b[1;33m\u001b[0m\u001b[1;33m\u001b[0m\u001b[0m\n\u001b[0;32m      5\u001b[0m \u001b[1;33m\u001b[0m\u001b[0m\n",
      "\u001b[1;31mModuleNotFoundError\u001b[0m: No module named 'db_config'"
     ]
    }
   ],
   "source": [
    "import cx_Oracle\n",
    "import db_config\n",
    "\n",
    "con = cx_Oracle.connect(db_config.user, db_config.pw, db_config.dsn)\n",
    "\n",
    "cur = con.cursor()\n",
    "cur.execute(\"select * from dept order by deptno\")\n",
    "for deptno, dname, loc in cur:\n",
    "    print(\"Department number: \", deptno)\n",
    "    print(\"Department name: \", dname)\n",
    "    print(\"Department location:\", loc)"
   ]
  },
  {
   "cell_type": "code",
   "execution_count": 69,
   "id": "4f735cba",
   "metadata": {},
   "outputs": [
    {
     "ename": "SyntaxError",
     "evalue": "invalid syntax (<ipython-input-69-db0c46a1eee4>, line 1)",
     "output_type": "error",
     "traceback": [
      "\u001b[1;36m  File \u001b[1;32m\"<ipython-input-69-db0c46a1eee4>\"\u001b[1;36m, line \u001b[1;32m1\u001b[0m\n\u001b[1;33m    python query2.py\u001b[0m\n\u001b[1;37m           ^\u001b[0m\n\u001b[1;31mSyntaxError\u001b[0m\u001b[1;31m:\u001b[0m invalid syntax\n"
     ]
    }
   ],
   "source": [
    "python query2.py"
   ]
  },
  {
   "cell_type": "code",
   "execution_count": 1,
   "id": "40874bf7",
   "metadata": {},
   "outputs": [],
   "source": [
    "import cx_Oracle\n"
   ]
  },
  {
   "cell_type": "code",
   "execution_count": 2,
   "id": "fea70bcd",
   "metadata": {},
   "outputs": [],
   "source": [
    "dsn = cx_Oracle.makedsn('kritserv',1521,service_name='mumbaidb')\n"
   ]
  },
  {
   "cell_type": "code",
   "execution_count": 3,
   "id": "c02b3ec2",
   "metadata": {},
   "outputs": [],
   "source": [
    "conn = cx_Oracle.connect('fa','mumbaidb',dsn)"
   ]
  },
  {
   "cell_type": "code",
   "execution_count": 5,
   "id": "43155f37",
   "metadata": {},
   "outputs": [],
   "source": [
    "cur = conn.cursor()"
   ]
  },
  {
   "cell_type": "code",
   "execution_count": 9,
   "id": "f19e9aa3",
   "metadata": {},
   "outputs": [],
   "source": [
    "data = cur.execute(\"SELECT * FROM company\")"
   ]
  },
  {
   "cell_type": "code",
   "execution_count": 10,
   "id": "8365a22e",
   "metadata": {},
   "outputs": [
    {
     "data": {
      "text/plain": [
       "<cx_Oracle.Cursor on <cx_Oracle.Connection to fa@(DESCRIPTION=(ADDRESS=(PROTOCOL=TCP)(HOST=kritserv)(PORT=1521))(CONNECT_DATA=(SERVICE_NAME=mumbaidb)))>>"
      ]
     },
     "execution_count": 10,
     "metadata": {},
     "output_type": "execute_result"
    }
   ],
   "source": [
    "data"
   ]
  },
  {
   "cell_type": "code",
   "execution_count": 4,
   "id": "0e69463e",
   "metadata": {},
   "outputs": [
    {
     "ename": "ModuleNotFoundError",
     "evalue": "No module named 'nasa'",
     "output_type": "error",
     "traceback": [
      "\u001b[1;31m---------------------------------------------------------------------------\u001b[0m",
      "\u001b[1;31mModuleNotFoundError\u001b[0m                       Traceback (most recent call last)",
      "\u001b[1;32m<ipython-input-4-58028cd0a09b>\u001b[0m in \u001b[0;36m<module>\u001b[1;34m\u001b[0m\n\u001b[0;32m      1\u001b[0m \u001b[1;32mimport\u001b[0m \u001b[0mpandas\u001b[0m \u001b[1;32mas\u001b[0m \u001b[0mpd\u001b[0m\u001b[1;33m\u001b[0m\u001b[1;33m\u001b[0m\u001b[0m\n\u001b[1;32m----> 2\u001b[1;33m \u001b[1;32mimport\u001b[0m \u001b[0mnasa\u001b[0m\u001b[1;33m.\u001b[0m\u001b[0mjson\u001b[0m\u001b[1;33m\u001b[0m\u001b[1;33m\u001b[0m\u001b[0m\n\u001b[0m",
      "\u001b[1;31mModuleNotFoundError\u001b[0m: No module named 'nasa'"
     ]
    }
   ],
   "source": [
    "import pandas as pd\n",
    "import nasa.json\n"
   ]
  },
  {
   "cell_type": "code",
   "execution_count": null,
   "id": "a006d61a",
   "metadata": {},
   "outputs": [],
   "source": []
  }
 ],
 "metadata": {
  "kernelspec": {
   "display_name": "Python 3",
   "language": "python",
   "name": "python3"
  },
  "language_info": {
   "codemirror_mode": {
    "name": "ipython",
    "version": 3
   },
   "file_extension": ".py",
   "mimetype": "text/x-python",
   "name": "python",
   "nbconvert_exporter": "python",
   "pygments_lexer": "ipython3",
   "version": "3.8.8"
  }
 },
 "nbformat": 4,
 "nbformat_minor": 5
}
